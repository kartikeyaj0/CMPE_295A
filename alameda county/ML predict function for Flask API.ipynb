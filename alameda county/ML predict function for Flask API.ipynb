{
 "cells": [
  {
   "cell_type": "code",
   "execution_count": 1,
   "id": "cab47cb5",
   "metadata": {},
   "outputs": [],
   "source": [
    "import pickle"
   ]
  },
  {
   "cell_type": "markdown",
   "id": "85846497",
   "metadata": {},
   "source": [
    "Load required objects"
   ]
  },
  {
   "cell_type": "code",
   "execution_count": 2,
   "id": "86a93663",
   "metadata": {},
   "outputs": [],
   "source": [
    "with open('complete_data_2021.pkl', 'rb') as f:\n",
    "    complete_data_2021 = pickle.load(f)\n",
    "with open('complete_data_scaler.pkl', 'rb') as f:\n",
    "    complete_data_scaler = pickle.load(f)\n",
    "with open('important_features.pkl', 'rb') as f:\n",
    "    important_features = pickle.load(f)    "
   ]
  },
  {
   "cell_type": "markdown",
   "id": "ae560eaf",
   "metadata": {},
   "source": [
    "Load the ML model"
   ]
  },
  {
   "cell_type": "code",
   "execution_count": 3,
   "id": "4a825109",
   "metadata": {},
   "outputs": [],
   "source": [
    "from tensorflow.keras.models import load_model\n",
    "nn_model = load_model('nn_model.h5')"
   ]
  },
  {
   "cell_type": "markdown",
   "id": "5413bd3e",
   "metadata": {},
   "source": [
    "Predict with user specified values"
   ]
  },
  {
   "cell_type": "code",
   "execution_count": 4,
   "id": "f235a876",
   "metadata": {},
   "outputs": [
    {
     "data": {
      "text/plain": [
       "avg_temp_val_1                          50.2\n",
       "avg_temp_val_2                          51.8\n",
       "avg_temp_val_3                          51.9\n",
       "avg_temp_val_4                          58.1\n",
       "avg_temp_val_5                          63.1\n",
       "                                        ... \n",
       "('storm_count', 'Heavy Snow')            0.0\n",
       "('storm_count', 'Thunderstorm Wind')     0.0\n",
       "('storm_count', 'Tornado')               0.0\n",
       "('storm_count', 'Wildfire')              1.0\n",
       "('storm_count', 'Winter Weather')        0.0\n",
       "Name: 2021, Length: 180, dtype: float64"
      ]
     },
     "execution_count": 4,
     "metadata": {},
     "output_type": "execute_result"
    }
   ],
   "source": [
    "complete_data_2021"
   ]
  },
  {
   "cell_type": "markdown",
   "id": "c1790770",
   "metadata": {},
   "source": [
    "**This is how the function works:**\n",
    "\n",
    "We start with the assumption that we have a list of features with new values (from the user input sliders)"
   ]
  },
  {
   "cell_type": "code",
   "execution_count": 6,
   "id": "fadad2d8",
   "metadata": {},
   "outputs": [],
   "source": [
    "test_user_input = {'avg_temp_val_1': 99, 'avg_temp_val_2': 99, }"
   ]
  },
  {
   "cell_type": "markdown",
   "id": "59a62381",
   "metadata": {},
   "source": [
    "We then replace these feature values one-by-one"
   ]
  },
  {
   "cell_type": "code",
   "execution_count": 7,
   "id": "f11ccb40",
   "metadata": {},
   "outputs": [],
   "source": [
    "for k, v in test_user_input.items():\n",
    "    complete_data_2021[k] = v"
   ]
  },
  {
   "cell_type": "markdown",
   "id": "2e4f95e1",
   "metadata": {},
   "source": [
    "Below, we can see that the values for `avg_temp_val_1` and `avg_temp_val_2` were replaced."
   ]
  },
  {
   "cell_type": "code",
   "execution_count": 8,
   "id": "0bb785f3",
   "metadata": {},
   "outputs": [
    {
     "data": {
      "text/plain": [
       "avg_temp_val_1                          99.0\n",
       "avg_temp_val_2                          99.0\n",
       "avg_temp_val_3                          51.9\n",
       "avg_temp_val_4                          58.1\n",
       "avg_temp_val_5                          63.1\n",
       "                                        ... \n",
       "('storm_count', 'Heavy Snow')            0.0\n",
       "('storm_count', 'Thunderstorm Wind')     0.0\n",
       "('storm_count', 'Tornado')               0.0\n",
       "('storm_count', 'Wildfire')              1.0\n",
       "('storm_count', 'Winter Weather')        0.0\n",
       "Name: 2021, Length: 180, dtype: float64"
      ]
     },
     "execution_count": 8,
     "metadata": {},
     "output_type": "execute_result"
    }
   ],
   "source": [
    "complete_data_2021"
   ]
  },
  {
   "cell_type": "markdown",
   "id": "52a8dbb9",
   "metadata": {},
   "source": [
    "Now, we scale the values for input to the ML model."
   ]
  },
  {
   "cell_type": "code",
   "execution_count": 15,
   "id": "80aa3ead",
   "metadata": {},
   "outputs": [
    {
     "name": "stderr",
     "output_type": "stream",
     "text": [
      "/Users/spartan/Library/Python/3.9/lib/python/site-packages/sklearn/base.py:420: UserWarning: X does not have valid feature names, but MinMaxScaler was fitted with feature names\n",
      "  warnings.warn(\n"
     ]
    },
    {
     "data": {
      "text/plain": [
       "array([[6.79746835e+00, 5.55789474e+00, 3.27102804e-01, 7.50000000e-01,\n",
       "        6.10619469e-01, 9.04761905e-01, 7.39130435e-01, 6.31578947e-01,\n",
       "        6.44736842e-01, 1.12244898e-01, 8.24074074e-01, 4.40000000e-01,\n",
       "        6.20253165e-01, 5.89473684e-01, 3.27102804e-01, 7.50000000e-01,\n",
       "        6.10619469e-01, 9.04761905e-01, 7.39130435e-01, 6.31578947e-01,\n",
       "        6.44736842e-01, 1.12244898e-01, 8.24074074e-01, 4.40000000e-01,\n",
       "        5.46218487e-01, 6.72131148e-01, 4.41379310e-01, 8.47619048e-01,\n",
       "        6.91011236e-01, 8.71287129e-01, 7.15909091e-01, 6.62921348e-01,\n",
       "        7.19512195e-01, 1.11111111e-01, 6.89393939e-01, 2.53164557e-01,\n",
       "        5.46218487e-01, 6.72131148e-01, 4.41379310e-01, 8.47619048e-01,\n",
       "        6.91011236e-01, 8.71287129e-01, 7.15909091e-01, 6.62921348e-01,\n",
       "        7.19512195e-01, 1.11111111e-01, 6.89393939e-01, 2.53164557e-01,\n",
       "        5.43689320e-01, 5.12195122e-01, 7.04225352e-02, 5.24590164e-01,\n",
       "        4.86111111e-01, 8.67924528e-01, 8.00000000e-01, 6.28571429e-01,\n",
       "        5.35211268e-01, 2.30769231e-01, 1.00000000e+00, 5.48148148e-01,\n",
       "        5.43689320e-01, 5.12195122e-01, 7.04225352e-02, 5.24590164e-01,\n",
       "        4.86111111e-01, 8.67924528e-01, 8.00000000e-01, 6.28571429e-01,\n",
       "        5.35211268e-01, 2.30769231e-01, 1.00000000e+00, 5.48148148e-01,\n",
       "        3.35112060e-01, 8.47902098e-02, 1.43033292e-01, 0.00000000e+00,\n",
       "        3.48432056e-03, 0.00000000e+00, 0.00000000e+00, 0.00000000e+00,\n",
       "        3.70370370e-02, 1.00000000e+00, 1.35972461e-01, 6.48979592e-01,\n",
       "        3.35112060e-01, 8.47902098e-02, 1.43033292e-01, 0.00000000e+00,\n",
       "        3.48432056e-03, 0.00000000e+00, 0.00000000e+00, 0.00000000e+00,\n",
       "        3.70370370e-02, 1.00000000e+00, 1.35972461e-01, 6.48979592e-01,\n",
       "        3.80566802e-01, 4.05303030e-01, 6.60377358e-01, 2.35576923e-01,\n",
       "        2.73109244e-01, 5.12820513e-02, 0.00000000e+00, 0.00000000e+00,\n",
       "        1.27659574e-01, 8.10457516e-01, 1.61904762e-01, 5.56270096e-01,\n",
       "        3.80566802e-01, 4.05303030e-01, 6.60377358e-01, 2.35576923e-01,\n",
       "        2.73109244e-01, 5.12820513e-02, 0.00000000e+00, 0.00000000e+00,\n",
       "        1.27659574e-01, 8.10457516e-01, 1.61904762e-01, 5.56270096e-01,\n",
       "        0.00000000e+00, 0.00000000e+00, 0.00000000e+00, 5.50000000e-01,\n",
       "        4.03508772e-01, 8.72727273e-01, 7.19387755e-01, 6.00000000e-01,\n",
       "        5.79234973e-01, 3.97350993e-02, 0.00000000e+00, 0.00000000e+00,\n",
       "        0.00000000e+00, 0.00000000e+00, 0.00000000e+00, 5.50000000e-01,\n",
       "        4.03508772e-01, 8.72727273e-01, 7.19387755e-01, 6.00000000e-01,\n",
       "        5.79234973e-01, 3.97350993e-02, 0.00000000e+00, 0.00000000e+00,\n",
       "        4.70940294e-01, 3.94941131e-01, 3.56212699e-01, 4.37999572e-01,\n",
       "        4.24011681e-01, 3.87380955e-01, 3.60079301e-01, 3.68913858e-01,\n",
       "        4.48713505e-01, 6.15428351e-01, 7.49549799e-01, 9.10839915e-01,\n",
       "        3.57064658e-01, 3.23835286e-01, 3.35939311e-01, 2.59661140e-01,\n",
       "        2.71561442e-01, 1.94778557e-01, 1.01134240e-01, 1.32961829e-02,\n",
       "        2.44535403e-01, 5.42383555e-01, 3.94740956e-01, 4.73285776e-01,\n",
       "        0.00000000e+00, 0.00000000e+00, 1.00000000e+00, 1.00000000e+00,\n",
       "        9.09090909e-02, 2.50000000e-01, 0.00000000e+00, 0.00000000e+00,\n",
       "        0.00000000e+00, 0.00000000e+00, 1.11111111e-01, 0.00000000e+00]])"
      ]
     },
     "execution_count": 15,
     "metadata": {},
     "output_type": "execute_result"
    }
   ],
   "source": [
    "complete_data_scaler.transform(complete_data_2021.values.reshape(1, -1))"
   ]
  },
  {
   "cell_type": "markdown",
   "id": "d119e5cd",
   "metadata": {},
   "source": [
    "We now predict the electricity consumption using NN model. Note the use of y_max. This is the maximum electricity consumption in the dataset. Since I am using the softmax layer as output in my NN model, the output is always between 0 and 1. The value then needs to be scaled back to the original value. We can achieve this by multiplying the predicted value with y_max."
   ]
  },
  {
   "cell_type": "code",
   "execution_count": 22,
   "id": "94a1cf0b",
   "metadata": {},
   "outputs": [],
   "source": [
    "# from the complete dataset\n",
    "y_max = 3308.467553\n",
    "\n",
    "def predict_consumption(feature_dict):\n",
    "    x = complete_data_2021.copy()\n",
    "    for k, v in feature_dict.items():\n",
    "        x[k] = v\n",
    "    scaled_x = complete_data_scaler.transform(x.values.reshape(1, -1))\n",
    "    return nn_model.predict(scaled_x)[0][0] * y_max\n",
    "    "
   ]
  },
  {
   "cell_type": "code",
   "execution_count": 23,
   "id": "cb94f283",
   "metadata": {},
   "outputs": [
    {
     "name": "stdout",
     "output_type": "stream",
     "text": [
      "1/1 [==============================] - 0s 16ms/step\n"
     ]
    },
    {
     "name": "stderr",
     "output_type": "stream",
     "text": [
      "/Users/spartan/Library/Python/3.9/lib/python/site-packages/sklearn/base.py:420: UserWarning: X does not have valid feature names, but MinMaxScaler was fitted with feature names\n",
      "  warnings.warn(\n"
     ]
    },
    {
     "data": {
      "text/plain": [
       "3080.7307002040916"
      ]
     },
     "execution_count": 23,
     "metadata": {},
     "output_type": "execute_result"
    }
   ],
   "source": [
    "predict_consumption(test_user_input)"
   ]
  },
  {
   "cell_type": "code",
   "execution_count": null,
   "id": "1a11ddf3",
   "metadata": {},
   "outputs": [],
   "source": []
  }
 ],
 "metadata": {
  "kernelspec": {
   "display_name": "Python 3 (ipykernel)",
   "language": "python",
   "name": "python3"
  },
  "language_info": {
   "codemirror_mode": {
    "name": "ipython",
    "version": 3
   },
   "file_extension": ".py",
   "mimetype": "text/x-python",
   "name": "python",
   "nbconvert_exporter": "python",
   "pygments_lexer": "ipython3",
   "version": "3.9.6"
  }
 },
 "nbformat": 4,
 "nbformat_minor": 5
}
